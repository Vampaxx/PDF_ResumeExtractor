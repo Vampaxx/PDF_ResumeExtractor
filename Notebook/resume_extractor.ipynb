{
 "cells": [
  {
   "cell_type": "code",
   "execution_count": 10,
   "metadata": {},
   "outputs": [],
   "source": [
    "import os\n",
    "from groq import Groq\n",
    "from pathlib import Path"
   ]
  },
  {
   "cell_type": "markdown",
   "metadata": {},
   "source": [
    "## Model setup"
   ]
  },
  {
   "cell_type": "code",
   "execution_count": 7,
   "metadata": {},
   "outputs": [],
   "source": [
    "from dotenv import load_dotenv\n",
    "from langchain_groq import ChatGroq\n",
    "\n",
    "\n",
    "load_dotenv()\n",
    "GROQ_API_KEY = os.getenv('GROQ_API_KEY')"
   ]
  },
  {
   "cell_type": "code",
   "execution_count": 8,
   "metadata": {},
   "outputs": [],
   "source": [
    "MODEL_NAME = \"llama3-8b-8192\"\n",
    "\n",
    "llm = ChatGroq(\n",
    "    model=MODEL_NAME,\n",
    "    temperature=0,\n",
    "    api_key=GROQ_API_KEY)"
   ]
  },
  {
   "cell_type": "code",
   "execution_count": null,
   "metadata": {},
   "outputs": [],
   "source": []
  },
  {
   "cell_type": "markdown",
   "metadata": {},
   "source": [
    "## Data loading_&_Processing"
   ]
  },
  {
   "cell_type": "code",
   "execution_count": 23,
   "metadata": {},
   "outputs": [
    {
     "data": {
      "text/plain": [
       "'C:\\\\Users\\\\Asus\\\\Machine_learning\\\\LLM\\\\Projects\\\\PDF_ResumeExtractor\\\\Pdf_file'"
      ]
     },
     "execution_count": 23,
     "metadata": {},
     "output_type": "execute_result"
    }
   ],
   "source": [
    "folder_path = r\"C:\\Users\\Asus\\Machine_learning\\LLM\\Projects\\PDF_ResumeExtractor\\Pdf_file\"\n",
    "#folder_path =Path (\"Pdf_file\")\n",
    "folder_path"
   ]
  },
  {
   "cell_type": "code",
   "execution_count": 38,
   "metadata": {},
   "outputs": [
    {
     "data": {
      "text/plain": [
       "['C:\\\\Users\\\\Asus\\\\Machine_learning\\\\LLM\\\\Projects\\\\PDF_ResumeExtractor\\\\Pdf_file\\\\Arjun_ML_engineer-1.pdf',\n",
       " 'C:\\\\Users\\\\Asus\\\\Machine_learning\\\\LLM\\\\Projects\\\\PDF_ResumeExtractor\\\\Pdf_file\\\\Arjun_ML_engineer.pdf',\n",
       " 'C:\\\\Users\\\\Asus\\\\Machine_learning\\\\LLM\\\\Projects\\\\PDF_ResumeExtractor\\\\Pdf_file\\\\Data science and ML.pdf',\n",
       " 'C:\\\\Users\\\\Asus\\\\Machine_learning\\\\LLM\\\\Projects\\\\PDF_ResumeExtractor\\\\Pdf_file\\\\Data scientist & ML enginner 2.8 Exp NLP.pdf']"
      ]
     },
     "execution_count": 38,
     "metadata": {},
     "output_type": "execute_result"
    }
   ],
   "source": [
    "import glob\n",
    "\n",
    "pdf_files = glob.glob(os.path.join(folder_path, \"*.pdf\"))\n",
    "pdf_files"
   ]
  },
  {
   "cell_type": "code",
   "execution_count": 30,
   "metadata": {},
   "outputs": [
    {
     "data": {
      "text/plain": [
       "['C:\\\\Users\\\\Asus\\\\Machine_learning\\\\LLM\\\\Projects\\\\PDF_ResumeExtractor\\\\Pdf_file\\\\Arjun_ML_engineer_1.pdf',\n",
       " 'C:\\\\Users\\\\Asus\\\\Machine_learning\\\\LLM\\\\Projects\\\\PDF_ResumeExtractor\\\\Pdf_file\\\\Arjun_ML_engineer.pdf',\n",
       " 'C:\\\\Users\\\\Asus\\\\Machine_learning\\\\LLM\\\\Projects\\\\PDF_ResumeExtractor\\\\Pdf_file\\\\Data_science_and_ML.pdf',\n",
       " 'C:\\\\Users\\\\Asus\\\\Machine_learning\\\\LLM\\\\Projects\\\\PDF_ResumeExtractor\\\\Pdf_file\\\\Data_scientist_&_ML_enginner_2.8_Exp_NLP.pdf']"
      ]
     },
     "execution_count": 30,
     "metadata": {},
     "output_type": "execute_result"
    }
   ],
   "source": [
    "old_name = [os.path.join(folder_path,file_name) for file_name in pdf_files ]\n",
    "\n",
    "resume_file_lists = [file_name.replace(\"-\",\"_\").replace(\" \",\"_\") for file_name in pdf_files]\n",
    "resume_file_lists"
   ]
  },
  {
   "cell_type": "code",
   "execution_count": 40,
   "metadata": {},
   "outputs": [],
   "source": [
    "for old_name in pdf_files:\n",
    "    new_name      = old_name.replace(\"-\", \"_\").replace(\" \", \"_\")\n",
    "    os.rename(old_name,new_name)"
   ]
  },
  {
   "cell_type": "markdown",
   "metadata": {},
   "source": [
    "## Processing"
   ]
  },
  {
   "cell_type": "code",
   "execution_count": 41,
   "metadata": {},
   "outputs": [],
   "source": [
    "from langchain_core.prompts import PromptTemplate\n",
    "from langchain_community.document_loaders import PyPDFLoader\n",
    "from langchain_core.output_parsers import JsonOutputParser"
   ]
  },
  {
   "cell_type": "code",
   "execution_count": 43,
   "metadata": {},
   "outputs": [],
   "source": [
    "def load_pdf(file_path:str):\n",
    "\n",
    "  file_loader   = PyPDFLoader(file_path)\n",
    "  pages         = file_loader.load_and_split()\n",
    "  text = \"\\n\\n\".join(doc.page_content for doc in pages)\n",
    "  return text"
   ]
  },
  {
   "cell_type": "markdown",
   "metadata": {},
   "source": [
    "## Data validation"
   ]
  },
  {
   "cell_type": "code",
   "execution_count": 47,
   "metadata": {},
   "outputs": [],
   "source": [
    "# @title Pydantic function\n",
    "import re\n",
    "from typing import Optional\n",
    "from pydantic import BaseModel,ValidationError,Field,field_validator,EmailStr\n"
   ]
  },
  {
   "cell_type": "code",
   "execution_count": 48,
   "metadata": {},
   "outputs": [],
   "source": [
    "class PersonalInformation(BaseModel):\n",
    "    \"\"\"Model for storing personal information\"\"\"\n",
    "    name        : str\n",
    "    email       : EmailStr\n",
    "    phone_number: Optional[str] = None\n",
    "\n",
    "    @field_validator('phone_number')\n",
    "    def validate_phone_number(cls, number):\n",
    "        if number:\n",
    "            # Regular expression pattern to validate phone number\n",
    "            pattern = r'^(?:\\+?\\d{1,3}-\\d{10}|\\d{10})$'\n",
    "            if not re.match(pattern, number):\n",
    "                raise ValueError(\"Invalid phone number format.\")\n",
    "\n",
    "        return number\n",
    "class ProjectTitle(BaseModel):\n",
    "  title: list[str] = Field(default=[],max_items=6,description=\"List of project titles\")\n",
    "\n",
    "class Details(BaseModel):\n",
    "  project_titles : ProjectTitle\n",
    "  personal_info  : PersonalInformation"
   ]
  },
  {
   "cell_type": "markdown",
   "metadata": {},
   "source": [
    "## Parsing"
   ]
  },
  {
   "cell_type": "code",
   "execution_count": 49,
   "metadata": {},
   "outputs": [],
   "source": [
    "# @title Parasing\n",
    "parser  = JsonOutputParser(pydantic_object=Details)\n",
    "prompt  = PromptTemplate(\n",
    "    template = \"\"\"\n",
    "    You are a data extraction and summarization expert.Given the following text, perform the following tasks:\n",
    "    1. Summarize the text and extract all the project titles (include if any freelancing work is present). Ensure that project titles are returned in a list format.\n",
    "    2. Extract the following details: name, email, and phone number.\n",
    "    Return the result in JSON format with the following structure:\n",
    "    \n",
    "      1. \"project_titles\": \"<extracted project title 1>\", \"<extracted project title 2>\", ...,\n",
    "      2. \"name\"  : \"<name of candidate>\",\n",
    "      3. \"email\" : \"<email address>\",\n",
    "      4. \"phone_number\": \"<extracted phone number>\"\n",
    "      5. \"experience\":\"summarize\" in 25 words.\n",
    "    \n",
    "    {format_instructions}\n",
    "    Context:{context}\n",
    "    \"\"\",\n",
    "    input_variables   = [\"context\"],\n",
    "    partial_variables = {\"format_instructions\": parser.get_format_instructions()},)"
   ]
  },
  {
   "cell_type": "markdown",
   "metadata": {},
   "source": [
    "## Chain"
   ]
  },
  {
   "cell_type": "code",
   "execution_count": 50,
   "metadata": {},
   "outputs": [],
   "source": [
    "chain= ( prompt| llm| parser)"
   ]
  },
  {
   "cell_type": "code",
   "execution_count": null,
   "metadata": {},
   "outputs": [],
   "source": []
  },
  {
   "cell_type": "markdown",
   "metadata": {},
   "source": [
    "## Sample data"
   ]
  },
  {
   "cell_type": "code",
   "execution_count": 53,
   "metadata": {},
   "outputs": [],
   "source": [
    "sample = load_pdf(resume_file_lists[1])"
   ]
  },
  {
   "cell_type": "code",
   "execution_count": 54,
   "metadata": {},
   "outputs": [],
   "source": [
    "result = chain.invoke({\"context\":sample})"
   ]
  },
  {
   "cell_type": "code",
   "execution_count": 55,
   "metadata": {},
   "outputs": [
    {
     "data": {
      "text/plain": [
       "{'project_titles': ['Customer Service Chatbot',\n",
       "  'Predicting Broadband Adoption',\n",
       "  'Diabetic Retinopathy Detection System',\n",
       "  'Advanced Image Segmentation Model for Brain Tumor Detection',\n",
       "  'Transformative Data Automation'],\n",
       " 'personal_info': {'name': 'ARJUN P V',\n",
       "  'email': 'arjunappu1001@gmail.com',\n",
       "  'phone_number': '+91 9400508669'},\n",
       " 'experience': 'Data Scientist with over 3 years of industrial experience and 2.5 years of specialized expertise in Data Science and Machine Learning, proficient in Python programming and adept at extracting valuable insights from data.'}"
      ]
     },
     "execution_count": 55,
     "metadata": {},
     "output_type": "execute_result"
    }
   ],
   "source": [
    "result"
   ]
  }
 ],
 "metadata": {
  "kernelspec": {
   "display_name": "llm_env",
   "language": "python",
   "name": "python3"
  },
  "language_info": {
   "codemirror_mode": {
    "name": "ipython",
    "version": 3
   },
   "file_extension": ".py",
   "mimetype": "text/x-python",
   "name": "python",
   "nbconvert_exporter": "python",
   "pygments_lexer": "ipython3",
   "version": "3.9.19"
  }
 },
 "nbformat": 4,
 "nbformat_minor": 2
}
